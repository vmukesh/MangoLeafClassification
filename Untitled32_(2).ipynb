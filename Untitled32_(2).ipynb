{
  "nbformat": 4,
  "nbformat_minor": 0,
  "metadata": {
    "colab": {
      "provenance": []
    },
    "kernelspec": {
      "name": "python3",
      "display_name": "Python 3"
    },
    "language_info": {
      "name": "python"
    },
    "accelerator": "GPU",
    "gpuClass": "standard"
  },
  "cells": [
    {
      "cell_type": "code",
      "execution_count": 1,
      "metadata": {
        "colab": {
          "base_uri": "https://localhost:8080/"
        },
        "id": "XdQW7yyXJWsM",
        "outputId": "3e520365-305b-4a39-dc56-a88a8bcfed5b"
      },
      "outputs": [
        {
          "output_type": "stream",
          "name": "stdout",
          "text": [
            "Looking in indexes: https://pypi.org/simple, https://us-python.pkg.dev/colab-wheels/public/simple/\n",
            "Collecting opendatasets\n",
            "  Downloading opendatasets-0.1.22-py3-none-any.whl (15 kB)\n",
            "Requirement already satisfied: tqdm in /usr/local/lib/python3.10/dist-packages (from opendatasets) (4.65.0)\n",
            "Requirement already satisfied: kaggle in /usr/local/lib/python3.10/dist-packages (from opendatasets) (1.5.13)\n",
            "Requirement already satisfied: click in /usr/local/lib/python3.10/dist-packages (from opendatasets) (8.1.3)\n",
            "Requirement already satisfied: requests in /usr/local/lib/python3.10/dist-packages (from kaggle->opendatasets) (2.27.1)\n",
            "Requirement already satisfied: python-slugify in /usr/local/lib/python3.10/dist-packages (from kaggle->opendatasets) (8.0.1)\n",
            "Requirement already satisfied: urllib3 in /usr/local/lib/python3.10/dist-packages (from kaggle->opendatasets) (1.26.15)\n",
            "Requirement already satisfied: python-dateutil in /usr/local/lib/python3.10/dist-packages (from kaggle->opendatasets) (2.8.2)\n",
            "Requirement already satisfied: six>=1.10 in /usr/local/lib/python3.10/dist-packages (from kaggle->opendatasets) (1.16.0)\n",
            "Requirement already satisfied: certifi in /usr/local/lib/python3.10/dist-packages (from kaggle->opendatasets) (2022.12.7)\n",
            "Requirement already satisfied: text-unidecode>=1.3 in /usr/local/lib/python3.10/dist-packages (from python-slugify->kaggle->opendatasets) (1.3)\n",
            "Requirement already satisfied: charset-normalizer~=2.0.0 in /usr/local/lib/python3.10/dist-packages (from requests->kaggle->opendatasets) (2.0.12)\n",
            "Requirement already satisfied: idna<4,>=2.5 in /usr/local/lib/python3.10/dist-packages (from requests->kaggle->opendatasets) (3.4)\n",
            "Installing collected packages: opendatasets\n",
            "Successfully installed opendatasets-0.1.22\n",
            "Looking in indexes: https://pypi.org/simple, https://us-python.pkg.dev/colab-wheels/public/simple/\n",
            "Requirement already satisfied: pandas in /usr/local/lib/python3.10/dist-packages (1.5.3)\n",
            "Requirement already satisfied: python-dateutil>=2.8.1 in /usr/local/lib/python3.10/dist-packages (from pandas) (2.8.2)\n",
            "Requirement already satisfied: numpy>=1.21.0 in /usr/local/lib/python3.10/dist-packages (from pandas) (1.22.4)\n",
            "Requirement already satisfied: pytz>=2020.1 in /usr/local/lib/python3.10/dist-packages (from pandas) (2022.7.1)\n",
            "Requirement already satisfied: six>=1.5 in /usr/local/lib/python3.10/dist-packages (from python-dateutil>=2.8.1->pandas) (1.16.0)\n"
          ]
        }
      ],
      "source": [
        "!pip install opendatasets\n",
        "!pip install pandas"
      ]
    },
    {
      "cell_type": "code",
      "source": [
        "import cv2\n",
        "import opendatasets as od\n",
        "import matplotlib.pyplot as plt\n",
        "import tensorflow as tf \n",
        "import numpy as np\n",
        "import pandas as pd\n",
        "import matplotlib.pyplot as plt\n",
        "import seaborn as sns\n",
        "import keras\n",
        "from keras.preprocessing.image import ImageDataGenerator\n",
        "from tensorflow.keras import layers\n",
        "from tensorflow.keras.models import Sequential, Model\n",
        "from tensorflow.keras.layers import Conv2D, Flatten, MaxPooling2D, Dense, Input\n",
        "from tensorflow.keras.utils import Sequence\n",
        "import os\n",
        "import glob\n",
        "from sklearn.model_selection import train_test_split\n"
      ],
      "metadata": {
        "id": "TzzheyxpJqmu"
      },
      "execution_count": 3,
      "outputs": []
    },
    {
      "cell_type": "code",
      "source": [
        "dataset=od.download(\n",
        "    \"https://www.kaggle.com/datasets/aryashah2k/mango-leaf-disease-dataset\")"
      ],
      "metadata": {
        "colab": {
          "base_uri": "https://localhost:8080/"
        },
        "id": "vwJFsBN3Jsr_",
        "outputId": "7d88b60b-dbd5-43d7-b735-7e41d2852cc4"
      },
      "execution_count": 3,
      "outputs": [
        {
          "output_type": "stream",
          "name": "stdout",
          "text": [
            "Please provide your Kaggle credentials to download this dataset. Learn more: http://bit.ly/kaggle-creds\n",
            "Your Kaggle username: rafiasohail39\n",
            "Your Kaggle Key: ··········\n",
            "Downloading mango-leaf-disease-dataset.zip to ./mango-leaf-disease-dataset\n"
          ]
        },
        {
          "output_type": "stream",
          "name": "stderr",
          "text": [
            "100%|██████████| 103M/103M [00:05<00:00, 19.8MB/s]\n"
          ]
        },
        {
          "output_type": "stream",
          "name": "stdout",
          "text": [
            "\n"
          ]
        }
      ]
    },
    {
      "cell_type": "code",
      "source": [
        "import cv2\n",
        "import os\n",
        "\n",
        "directory=\"mango-leaf-disease-dataset\"\n",
        "train_dataset = tf.keras.utils.image_dataset_from_directory(\n",
        "  directory,\n",
        "  validation_split=0.2,\n",
        "  subset=\"training\",\n",
        "  seed=50,\n",
        "  image_size=(240, 240),\n",
        "  batch_size=32)\n",
        "\n",
        "val_dataset = tf.keras.utils.image_dataset_from_directory(\n",
        "  directory,\n",
        "  validation_split=0.2,\n",
        "  subset=\"validation\",\n",
        "  seed=50,\n",
        "  image_size=(240, 240),\n",
        "  batch_size=32)\n",
        "\n",
        "class_names = train_dataset.class_names\n",
        "class_names\n"
      ],
      "metadata": {
        "colab": {
          "base_uri": "https://localhost:8080/"
        },
        "id": "CsixY6byJtJV",
        "outputId": "e401fb76-b4b6-45f4-9e9f-531adc21d50e"
      },
      "execution_count": 4,
      "outputs": [
        {
          "output_type": "stream",
          "name": "stdout",
          "text": [
            "Found 4000 files belonging to 8 classes.\n",
            "Using 3200 files for training.\n",
            "Found 4000 files belonging to 8 classes.\n",
            "Using 800 files for validation.\n"
          ]
        },
        {
          "output_type": "execute_result",
          "data": {
            "text/plain": [
              "['Anthracnose',\n",
              " 'Bacterial Canker',\n",
              " 'Cutting Weevil',\n",
              " 'Die Back',\n",
              " 'Gall Midge',\n",
              " 'Healthy',\n",
              " 'Powdery Mildew',\n",
              " 'Sooty Mould']"
            ]
          },
          "metadata": {},
          "execution_count": 4
        }
      ]
    },
    {
      "cell_type": "code",
      "source": [
        "\n",
        "AUTOTUNE = tf.data.AUTOTUNE\n",
        "\n",
        "train_dataset = train_dataset.cache().prefetch(buffer_size=AUTOTUNE)\n",
        "val_dataset = val_dataset.cache().prefetch(buffer_size=AUTOTUNE)"
      ],
      "metadata": {
        "id": "cLC7mvgOK1kn"
      },
      "execution_count": 5,
      "outputs": []
    },
    {
      "cell_type": "code",
      "source": [
        "\n",
        "img_input = layers.Input(shape=(240, 240, 3))\n",
        "\n",
        "x = layers.Conv2D(16, 3, activation='relu')(img_input)\n",
        "x = layers.MaxPooling2D(2)(x)\n",
        "\n",
        "x = layers.Conv2D(32, 3, activation='relu')(x)\n",
        "x = layers.MaxPooling2D(2)(x)\n",
        "\n",
        "x = layers.Conv2D(64, 3, activation='relu')(x)\n",
        "x = layers.MaxPooling2D(2)(x)\n",
        "\n",
        "x = layers.Conv2D(128, 3, activation='relu')(x)\n",
        "x = layers.MaxPooling2D(2)(x)\n",
        "\n",
        "x = layers.Conv2D(512, 3, activation='relu')(x)\n",
        "x = layers.MaxPooling2D(2)(x)\n",
        "\n",
        "x = layers.Flatten()(x)\n",
        "x = layers.Dense(1024, activation='relu')(x)\n",
        "output = layers.Dense(8, activation='softmax')(x)\n",
        "model = tf.keras.Model(inputs = [img_input], outputs = [output])\n",
        "model.summary()"
      ],
      "metadata": {
        "colab": {
          "base_uri": "https://localhost:8080/"
        },
        "id": "55DuBrGALBP4",
        "outputId": "dc87803c-55bc-432b-85d5-2772e0033720"
      },
      "execution_count": 6,
      "outputs": [
        {
          "output_type": "stream",
          "name": "stdout",
          "text": [
            "Model: \"model\"\n",
            "_________________________________________________________________\n",
            " Layer (type)                Output Shape              Param #   \n",
            "=================================================================\n",
            " input_1 (InputLayer)        [(None, 240, 240, 3)]     0         \n",
            "                                                                 \n",
            " conv2d (Conv2D)             (None, 238, 238, 16)      448       \n",
            "                                                                 \n",
            " max_pooling2d (MaxPooling2D  (None, 119, 119, 16)     0         \n",
            " )                                                               \n",
            "                                                                 \n",
            " conv2d_1 (Conv2D)           (None, 117, 117, 32)      4640      \n",
            "                                                                 \n",
            " max_pooling2d_1 (MaxPooling  (None, 58, 58, 32)       0         \n",
            " 2D)                                                             \n",
            "                                                                 \n",
            " conv2d_2 (Conv2D)           (None, 56, 56, 64)        18496     \n",
            "                                                                 \n",
            " max_pooling2d_2 (MaxPooling  (None, 28, 28, 64)       0         \n",
            " 2D)                                                             \n",
            "                                                                 \n",
            " conv2d_3 (Conv2D)           (None, 26, 26, 128)       73856     \n",
            "                                                                 \n",
            " max_pooling2d_3 (MaxPooling  (None, 13, 13, 128)      0         \n",
            " 2D)                                                             \n",
            "                                                                 \n",
            " conv2d_4 (Conv2D)           (None, 11, 11, 512)       590336    \n",
            "                                                                 \n",
            " max_pooling2d_4 (MaxPooling  (None, 5, 5, 512)        0         \n",
            " 2D)                                                             \n",
            "                                                                 \n",
            " flatten (Flatten)           (None, 12800)             0         \n",
            "                                                                 \n",
            " dense (Dense)               (None, 1024)              13108224  \n",
            "                                                                 \n",
            " dense_1 (Dense)             (None, 8)                 8200      \n",
            "                                                                 \n",
            "=================================================================\n",
            "Total params: 13,804,200\n",
            "Trainable params: 13,804,200\n",
            "Non-trainable params: 0\n",
            "_________________________________________________________________\n"
          ]
        }
      ]
    },
    {
      "cell_type": "code",
      "source": [
        "from tensorflow.keras.optimizers import Adam\n",
        "\n",
        "model.compile(loss='sparse_categorical_crossentropy',\n",
        "              optimizer=Adam(0.001),\n",
        "              metrics=['acc'])"
      ],
      "metadata": {
        "id": "rlBz53TEMFbW"
      },
      "execution_count": 7,
      "outputs": []
    },
    {
      "cell_type": "code",
      "source": [
        "history=model.fit(train_dataset,batch_size=32,epochs=15,validation_data=(val_dataset))"
      ],
      "metadata": {
        "colab": {
          "base_uri": "https://localhost:8080/"
        },
        "id": "zYmC668SMFyq",
        "outputId": "43a56aa2-2378-46ca-d4ad-1ee576cff7a5"
      },
      "execution_count": 8,
      "outputs": [
        {
          "output_type": "stream",
          "name": "stdout",
          "text": [
            "Epoch 1/15\n",
            "100/100 [==============================] - 19s 57ms/step - loss: 6.2340 - acc: 0.5097 - val_loss: 0.6432 - val_acc: 0.7638\n",
            "Epoch 2/15\n",
            "100/100 [==============================] - 4s 40ms/step - loss: 0.6762 - acc: 0.7591 - val_loss: 0.6145 - val_acc: 0.7837\n",
            "Epoch 3/15\n",
            "100/100 [==============================] - 4s 38ms/step - loss: 0.4109 - acc: 0.8500 - val_loss: 0.4582 - val_acc: 0.8275\n",
            "Epoch 4/15\n",
            "100/100 [==============================] - 4s 38ms/step - loss: 0.2284 - acc: 0.9181 - val_loss: 0.2554 - val_acc: 0.9062\n",
            "Epoch 5/15\n",
            "100/100 [==============================] - 4s 39ms/step - loss: 0.1950 - acc: 0.9353 - val_loss: 0.2397 - val_acc: 0.9050\n",
            "Epoch 6/15\n",
            "100/100 [==============================] - 4s 38ms/step - loss: 0.3152 - acc: 0.8963 - val_loss: 0.2719 - val_acc: 0.9100\n",
            "Epoch 7/15\n",
            "100/100 [==============================] - 4s 38ms/step - loss: 0.1877 - acc: 0.9312 - val_loss: 0.2018 - val_acc: 0.9312\n",
            "Epoch 8/15\n",
            "100/100 [==============================] - 4s 39ms/step - loss: 0.1244 - acc: 0.9522 - val_loss: 0.2016 - val_acc: 0.9475\n",
            "Epoch 9/15\n",
            "100/100 [==============================] - 4s 38ms/step - loss: 0.1119 - acc: 0.9631 - val_loss: 0.1786 - val_acc: 0.9388\n",
            "Epoch 10/15\n",
            "100/100 [==============================] - 4s 38ms/step - loss: 0.1250 - acc: 0.9547 - val_loss: 0.1773 - val_acc: 0.9488\n",
            "Epoch 11/15\n",
            "100/100 [==============================] - 4s 39ms/step - loss: 0.0852 - acc: 0.9719 - val_loss: 0.2565 - val_acc: 0.9262\n",
            "Epoch 12/15\n",
            "100/100 [==============================] - 4s 39ms/step - loss: 0.0778 - acc: 0.9728 - val_loss: 0.3296 - val_acc: 0.9250\n",
            "Epoch 13/15\n",
            "100/100 [==============================] - 4s 42ms/step - loss: 0.0463 - acc: 0.9847 - val_loss: 0.2720 - val_acc: 0.9150\n",
            "Epoch 14/15\n",
            "100/100 [==============================] - 4s 39ms/step - loss: 0.1205 - acc: 0.9619 - val_loss: 0.2825 - val_acc: 0.9075\n",
            "Epoch 15/15\n",
            "100/100 [==============================] - 4s 39ms/step - loss: 0.0867 - acc: 0.9712 - val_loss: 0.1757 - val_acc: 0.9613\n"
          ]
        }
      ]
    },
    {
      "cell_type": "code",
      "source": [
        "acc = history.history['acc']\n",
        "val_acc = history.history['val_acc']\n",
        "\n",
        "# Retrieve a list of list results on training and validation data\n",
        "# sets for each training epoch\n",
        "loss = history.history['loss']\n",
        "val_loss = history.history['val_loss']\n",
        "\n",
        "# Get number of epochs\n",
        "epochs = range(len(acc))\n",
        "\n",
        "# Plot training and validation accuracy per epoch\n",
        "plt.plot(epochs, acc)\n",
        "plt.plot(epochs, val_acc)\n",
        "plt.title('Training and validation accuracy')\n",
        "\n",
        "plt.figure()\n",
        "\n",
        "# Plot training and validation loss per epoch\n",
        "plt.plot(epochs, loss)\n",
        "plt.plot(epochs, val_loss)\n",
        "plt.title('Training and validation loss')"
      ],
      "metadata": {
        "colab": {
          "base_uri": "https://localhost:8080/",
          "height": 904
        },
        "id": "ZizoDMkjaqIY",
        "outputId": "39ce593d-ee87-44f3-db83-90d90129874a"
      },
      "execution_count": 9,
      "outputs": [
        {
          "output_type": "execute_result",
          "data": {
            "text/plain": [
              "Text(0.5, 1.0, 'Training and validation loss')"
            ]
          },
          "metadata": {},
          "execution_count": 9
        },
        {
          "output_type": "display_data",
          "data": {
            "text/plain": [
              "<Figure size 640x480 with 1 Axes>"
            ],
            "image/png": "[encoded data removed]"
          },
          "metadata": {}
        },
        {
          "output_type": "display_data",
          "data": {
            "text/plain": [
              "<Figure size 640x480 with 1 Axes>"
            ],
            "image/png": "[encoded data removed]"
          },
          "metadata": {}
        }
      ]
    },
    {
      "cell_type": "code",
      "source": [
        "import matplotlib.pyplot as plt\n",
        "from sklearn import model_selection\n",
        "from sklearn.tree import DecisionTreeClassifier\n",
        "from sklearn.neighbors import KNeighborsClassifier\n",
        "from sklearn.discriminant_analysis import LinearDiscriminantAnalysis\n",
        "from sklearn.naive_bayes import GaussianNB\n",
        "from sklearn.linear_model import LogisticRegression\n",
        "from sklearn.svm import SVC\n",
        "from sklearn.model_selection import train_test_split\n",
        "from sklearn import datasets\n",
        "import matplotlib.pyplot as plt\n",
        "\n",
        "plt.style.use('ggplot')"
      ],
      "metadata": {
        "id": "vtaEfJIsbCin"
      },
      "execution_count": 10,
      "outputs": []
    },
    {
      "cell_type": "code",
      "source": [
        "import os\n",
        "data = []\n",
        "labels = []\n",
        "for i in os.listdir(directory):\n",
        "  for j in os.listdir(directory+\"/\"+i):\n",
        "    im = cv2.imread(directory+\"/\"+i+\"/\"+j)\n",
        "    im = cv2.resize(im, (240, 240))\n",
        "    data.append(im)\n",
        "    labels.append(i)\n",
        "data = np.array(data)\n",
        "labels = np.array(labels)\n",
        "xtrain, xtest, ytrain, ytest = train_test_split(data, labels, test_size=0.30)"
      ],
      "metadata": {
        "id": "DdK5lcSHdq2u"
      },
      "execution_count": 11,
      "outputs": []
    },
    {
      "cell_type": "code",
      "source": [
        "data=[]\n",
        "labels=[]"
      ],
      "metadata": {
        "id": "XCSfBf6R1ibq"
      },
      "execution_count": 12,
      "outputs": []
    },
    {
      "cell_type": "code",
      "source": [
        "np.unique(ytrain)\n",
        "nsamples, nx, ny, nz = xtrain.shape\n",
        "xtrain_modified = xtrain.reshape((nsamples,nx*ny*nz))\n",
        "nsamples, x, y, z = xtest.shape\n",
        "xtest_modified = xtest.reshape((nsamples,x*y*z))"
      ],
      "metadata": {
        "id": "IdDGJTIzpVxB"
      },
      "execution_count": 13,
      "outputs": []
    },
    {
      "cell_type": "code",
      "source": [
        "models = []\n",
        "models.append(('KNeighborsClassifier', KNeighborsClassifier()))\n",
        "models.append(('DecisionTreeClassifier', DecisionTreeClassifier()))\n",
        "models.append(('Naive Bayes', GaussianNB()))\n",
        "models.append(('SVM', SVC()))"
      ],
      "metadata": {
        "id": "xdyZ5aGXblw6"
      },
      "execution_count": 14,
      "outputs": []
    },
    {
      "cell_type": "code",
      "source": [
        "output = []\n",
        "models_list = []\n",
        "scoring = 'accuracy'\n",
        "for model_name, model in models:\n",
        "         kfold = model_selection.KFold(n_splits=10,random_state=42,shuffle=True)\n",
        "         cv_results = model_selection.cross_val_score(model, xtrain_modified, ytrain, cv=kfold, scoring=scoring)\n",
        "         output.append(cv_results)\n",
        "         models_list.append(model_name)\n",
        "         msg = \"%s: %f (%f)\" % (model_name, cv_results.mean(), cv_results.std())\n",
        "         print(msg)"
      ],
      "metadata": {
        "colab": {
          "base_uri": "https://localhost:8080/",
          "height": 235
        },
        "id": "gdRqNMDFcEsr",
        "outputId": "17389834-7993-409c-d265-2050d037e838"
      },
      "execution_count": 1,
      "outputs": [
        {
          "output_type": "error",
          "ename": "NameError",
          "evalue": "ignored",
          "traceback": [
            "\u001b[0;31m---------------------------------------------------------------------------\u001b[0m",
            "\u001b[0;31mNameError\u001b[0m                                 Traceback (most recent call last)",
            "\u001b[0;32m<ipython-input-1-ba9866f97116>\u001b[0m in \u001b[0;36m<cell line: 4>\u001b[0;34m()\u001b[0m\n\u001b[1;32m      2\u001b[0m \u001b[0mmodels_list\u001b[0m \u001b[0;34m=\u001b[0m \u001b[0;34m[\u001b[0m\u001b[0;34m]\u001b[0m\u001b[0;34m\u001b[0m\u001b[0;34m\u001b[0m\u001b[0m\n\u001b[1;32m      3\u001b[0m \u001b[0mscoring\u001b[0m \u001b[0;34m=\u001b[0m \u001b[0;34m'accuracy'\u001b[0m\u001b[0;34m\u001b[0m\u001b[0;34m\u001b[0m\u001b[0m\n\u001b[0;32m----> 4\u001b[0;31m \u001b[0;32mfor\u001b[0m \u001b[0mmodel_name\u001b[0m\u001b[0;34m,\u001b[0m \u001b[0mmodel\u001b[0m \u001b[0;32min\u001b[0m \u001b[0mmodels\u001b[0m\u001b[0;34m:\u001b[0m\u001b[0;34m\u001b[0m\u001b[0;34m\u001b[0m\u001b[0m\n\u001b[0m\u001b[1;32m      5\u001b[0m          \u001b[0mkfold\u001b[0m \u001b[0;34m=\u001b[0m \u001b[0mmodel_selection\u001b[0m\u001b[0;34m.\u001b[0m\u001b[0mKFold\u001b[0m\u001b[0;34m(\u001b[0m\u001b[0mn_splits\u001b[0m\u001b[0;34m=\u001b[0m\u001b[0;36m10\u001b[0m\u001b[0;34m,\u001b[0m\u001b[0mrandom_state\u001b[0m\u001b[0;34m=\u001b[0m\u001b[0;36m42\u001b[0m\u001b[0;34m,\u001b[0m\u001b[0mshuffle\u001b[0m\u001b[0;34m=\u001b[0m\u001b[0;32mTrue\u001b[0m\u001b[0;34m)\u001b[0m\u001b[0;34m\u001b[0m\u001b[0;34m\u001b[0m\u001b[0m\n\u001b[1;32m      6\u001b[0m          \u001b[0mcv_results\u001b[0m \u001b[0;34m=\u001b[0m \u001b[0mmodel_selection\u001b[0m\u001b[0;34m.\u001b[0m\u001b[0mcross_val_score\u001b[0m\u001b[0;34m(\u001b[0m\u001b[0mmodel\u001b[0m\u001b[0;34m,\u001b[0m \u001b[0mxtrain_modified\u001b[0m\u001b[0;34m,\u001b[0m \u001b[0mytrain\u001b[0m\u001b[0;34m,\u001b[0m \u001b[0mcv\u001b[0m\u001b[0;34m=\u001b[0m\u001b[0mkfold\u001b[0m\u001b[0;34m,\u001b[0m \u001b[0mscoring\u001b[0m\u001b[0;34m=\u001b[0m\u001b[0mscoring\u001b[0m\u001b[0;34m)\u001b[0m\u001b[0;34m\u001b[0m\u001b[0;34m\u001b[0m\u001b[0m\n",
            "\u001b[0;31mNameError\u001b[0m: name 'models' is not defined"
          ]
        }
      ]
    },
    {
      "cell_type": "code",
      "source": [
        "\n",
        "\n",
        "model = ['CNN', 'kNN','DT' ,'Naive Bayes Classifier ', 'SVM']\n",
        "accuracy = [0.91, 0.66,0.67, 0.56, 0.81] \n",
        "x_axis = np.arange(len(model))\n",
        "fig = plt.figure()\n",
        "plt.bar(x_axis, accuracy, width = 0.1)\n",
        "plt.xticks(x_axis, model)\n",
        "\n",
        "\n",
        "\n",
        "plt.xlabel(\"Algorithm\")\n",
        "plt.ylabel(\"Accuracy\")\n",
        "plt.title(\"Comparison\")\n",
        "plt.show()"
      ],
      "metadata": {
        "id": "WZiUG2ZvLqI2",
        "outputId": "899490d1-d61b-47b3-8ddd-d1fedf160092",
        "colab": {
          "base_uri": "https://localhost:8080/",
          "height": 472
        }
      },
      "execution_count": 13,
      "outputs": [
        {
          "output_type": "display_data",
          "data": {
            "text/plain": [
              "<Figure size 640x480 with 1 Axes>"
            ],
            "image/png": "[encoded data removed]"
          },
          "metadata": {}
        }
      ]
    }
  ]
}